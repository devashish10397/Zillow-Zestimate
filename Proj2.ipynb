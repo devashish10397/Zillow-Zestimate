{
  "nbformat": 4,
  "nbformat_minor": 0,
  "metadata": {
    "colab": {
      "provenance": [],
      "toc_visible": true
    },
    "kernelspec": {
      "name": "python3",
      "display_name": "Python 3"
    },
    "language_info": {
      "name": "python"
    }
  },
  "cells": [
    {
      "cell_type": "markdown",
      "source": [
        "# New *Zillow Price Zestimate*"
      ],
      "metadata": {
        "id": "6sFmrq-grPI5"
      }
    },
    {
      "cell_type": "markdown",
      "source": [
        "Importing libraries"
      ],
      "metadata": {
        "id": "JNJh0AkGreZ_"
      }
    },
    {
      "cell_type": "code",
      "execution_count": null,
      "metadata": {
        "id": "huAcuXeKrF8h"
      },
      "outputs": [],
      "source": [
        "import pandas as pd\n",
        "import numpy as np\n",
        "from sklearn.model_selection import train_test_split\n",
        "from sklearn.linear_model import LinearRegression\n",
        "from sklearn.linear_model import Lasso\n",
        "from sklearn.impute import KNNImputer\n",
        "from sklearn.metrics import mean_absolute_error\n",
        "import tarfile\n",
        "import seaborn as sns  \n",
        "import matplotlib.pyplot as plt \n",
        "import pandas as pd\n",
        "from sklearn import preprocessing"
      ]
    },
    {
      "cell_type": "markdown",
      "source": [
        "**unzip**/untar"
      ],
      "metadata": {
        "id": "lJDNWBP-3l7w"
      }
    },
    {
      "cell_type": "code",
      "source": [
        "tar_gz_file = \"/content/drive/MyDrive/Colab Notebooks/zillow.tar.gz\""
      ],
      "metadata": {
        "id": "yP4WimOB4QPQ"
      },
      "execution_count": null,
      "outputs": []
    },
    {
      "cell_type": "code",
      "source": [
        "with tarfile.open(tar_gz_file, \"r:gz\") as tar:\n",
        "  tar.extractall()"
      ],
      "metadata": {
        "id": "IHUnOSb74idw"
      },
      "execution_count": null,
      "outputs": []
    },
    {
      "cell_type": "markdown",
      "source": [
        "Load in csv in dataframe"
      ],
      "metadata": {
        "id": "dg2GuKcI6Ne3"
      }
    },
    {
      "cell_type": "code",
      "source": [
        "df1 = pd.read_csv(\"/content/zillow/properties_2016.csv\")\n",
        "df2 = pd.read_csv(\"/content/zillow/properties_2017.csv\")\n",
        "\n",
        "df_prop1 = pd.read_csv(\"/content/zillow/train_2016.csv\")\n",
        "df_prop2 = pd.read_csv(\"/content/zillow/train_2017.csv\")\n",
        "\n",
        "num_cols_df1 = df1.shape[1]\n",
        "num_cols_df2 = df2.shape[1]\n",
        "\n"
      ],
      "metadata": {
        "id": "ebTjOCT66QY_",
        "colab": {
          "base_uri": "https://localhost:8080/"
        },
        "outputId": "ec56725c-d270-4fa7-d896-822c4ee64cca"
      },
      "execution_count": null,
      "outputs": [
        {
          "output_type": "stream",
          "name": "stderr",
          "text": [
            "/usr/local/lib/python3.8/dist-packages/IPython/core/interactiveshell.py:3326: DtypeWarning: Columns (22,32,34,49,55) have mixed types.Specify dtype option on import or set low_memory=False.\n",
            "  exec(code_obj, self.user_global_ns, self.user_ns)\n",
            "/usr/local/lib/python3.8/dist-packages/IPython/core/interactiveshell.py:3326: DtypeWarning: Columns (49) have mixed types.Specify dtype option on import or set low_memory=False.\n",
            "  exec(code_obj, self.user_global_ns, self.user_ns)\n"
          ]
        }
      ]
    },
    {
      "cell_type": "markdown",
      "source": [
        "Looking at the data"
      ],
      "metadata": {
        "id": "XqG8GT5lFRrh"
      }
    },
    {
      "cell_type": "code",
      "source": [
        "print(\"Number of rows in train 2016:\", len(df1))\n",
        "print(\"Number of rows in train 2017\", len(df2))\n",
        "print(\"Number of columns of cols:\", num_cols_df1)\n",
        "print(\"Number of columns of cols:\", num_cols_df2)\n",
        "print(\"Number of rows in prop 2016:\", len(df_prop1))\n",
        "print(\"Number of rows in prop 2017\", len(df_prop2))\n",
        "print(\"Number of columns of cols:\", df_prop1.shape[1])\n",
        "print(\"Number of columns of cols:\", df_prop2.shape[1])"
      ],
      "metadata": {
        "id": "Ti84FXtBzMvk",
        "colab": {
          "base_uri": "https://localhost:8080/"
        },
        "outputId": "f45fe3b2-a5b7-4faa-95e7-bfe588fb2a41"
      },
      "execution_count": null,
      "outputs": [
        {
          "output_type": "stream",
          "name": "stdout",
          "text": [
            "Number of rows in train 2016: 2985217\n",
            "Number of rows in train 2017 2985217\n",
            "Number of columns of cols: 58\n",
            "Number of columns of cols: 58\n",
            "Number of rows in prop 2016: 90275\n",
            "Number of rows in prop 2017 77613\n",
            "Number of columns of cols: 3\n",
            "Number of columns of cols: 3\n"
          ]
        }
      ]
    },
    {
      "cell_type": "markdown",
      "source": [
        "Data Preprocessing"
      ],
      "metadata": {
        "id": "GrMR62sziQWX"
      }
    },
    {
      "cell_type": "code",
      "source": [
        "#combine train data from 2016 and 2017\n",
        "df = pd.concat([df1, df2])\n",
        "print(\"all columns in trains dataset now:\", df.shape[1])\n",
        "#combine properties data from 2016 and 2017\n",
        "df_prop = pd.concat([df_prop1, df_prop2])\n",
        "#no need to include the date\n",
        "df_prop.drop('transactiondate', inplace = True, axis=1)\n",
        "print(\"properties has  \", len(df_prop), \"rows\")\n",
        "print(\"train has \", len(df), \"rows\")"
      ],
      "metadata": {
        "colab": {
          "base_uri": "https://localhost:8080/"
        },
        "id": "GTBnFDUbrerK",
        "outputId": "74cf16be-8f2c-4b9b-ea3e-138dc3813679"
      },
      "execution_count": null,
      "outputs": [
        {
          "output_type": "stream",
          "name": "stdout",
          "text": [
            "all columns in trains dataset now: 58\n",
            "properties has   167888 rows\n",
            "train has  5970434 rows\n"
          ]
        }
      ]
    },
    {
      "cell_type": "code",
      "source": [
        "#remove duplicates\n",
        "df = df.drop_duplicates(subset=['parcelid'])\n",
        "df_prop = df_prop.drop_duplicates(subset=['parcelid'])\n",
        "print(\"properties has  \", len(df_prop), \"items/rows\")\n",
        "print(\"train set has \", len(df), \"items/rows\")"
      ],
      "metadata": {
        "id": "oEAveW517kDH",
        "colab": {
          "base_uri": "https://localhost:8080/"
        },
        "outputId": "2332da6f-7699-42f2-cc79-5195ca8057ea"
      },
      "execution_count": null,
      "outputs": [
        {
          "output_type": "stream",
          "name": "stdout",
          "text": [
            "properties has   165210 items/rows\n",
            "train set has  2985217 items/rows\n"
          ]
        }
      ]
    },
    {
      "cell_type": "code",
      "source": [
        "#Merging Data frames\n",
        "df_prop = df_prop[df_prop.parcelid.isin(df.parcelid)]\n",
        "print(\"Before Merge: rows in df={}, rows in df_prop={}\".format(len(df), len(df_prop)))\n",
        "df = pd.merge(df, df_prop, on='parcelid', how='inner')\n",
        "print(\"After Merge: rows={}, columns={}\".format(len(df), len(df.columns)))"
      ],
      "metadata": {
        "colab": {
          "base_uri": "https://localhost:8080/"
        },
        "id": "AWNkcOLnvpjD",
        "outputId": "301eb078-9817-4b79-9e9c-a35b3143bc74"
      },
      "execution_count": null,
      "outputs": [
        {
          "output_type": "stream",
          "name": "stdout",
          "text": [
            "Before Merge: rows in df=2985217, rows in df_prop=165210\n",
            "After Merge: rows=165210, columns=59\n"
          ]
        }
      ]
    },
    {
      "cell_type": "markdown",
      "source": [
        "Calulating the null count"
      ],
      "metadata": {
        "id": "VnbbMF-OIQSt"
      }
    },
    {
      "cell_type": "code",
      "source": [
        "null_percentages = df.isnull().mean() * 100\n",
        "null_percentages = null_percentages.reset_index()\n",
        "null_percentages = null_percentages.rename(columns={\"index\": \"Column\", 0: \"Null Percentage\"})\n",
        "null_percentages = null_percentages.sort_values(by=\"Null Percentage\", ascending=False)"
      ],
      "metadata": {
        "id": "RkzUoHMOrjxx"
      },
      "execution_count": null,
      "outputs": []
    },
    {
      "cell_type": "markdown",
      "source": [
        "Data Visulaization"
      ],
      "metadata": {
        "id": "ALD1po18Bd1X"
      }
    },
    {
      "cell_type": "code",
      "source": [
        "# Visualize a scatter plot using Seaborn\n",
        "sns.set(style=\"whitegrid\")\n",
        "plt.figure(figsize=(15, 10))\n",
        "# Create a horizontal line at y=60\n",
        "plt.axhline(y=60, color='red', linestyle='--')\n",
        "ax = sns.barplot(x=\"Column\", y=\"Null Percentage\", data=null_percentages)\n",
        "ax.set_xticklabels(ax.get_xticklabels(), rotation=90)\n",
        "plt.title(\"Percentage of Null Values for Each Column\")\n",
        "plt.xlabel(\"Column\")\n",
        "plt.ylabel(\"Null Percentage\")\n",
        "plt.show()"
      ],
      "metadata": {
        "id": "LeCnl5ejBdNn",
        "colab": {
          "base_uri": "https://localhost:8080/",
          "height": 778
        },
        "outputId": "f177d4a6-baad-4946-d568-ab9aee779625"
      },
      "execution_count": null,
      "outputs": [
        {
          "output_type": "display_data",
          "data": {
            "text/plain": [
              "<Figure size 1080x720 with 1 Axes>"
            ],
            "image/png": "[encoded data removed]"
          },
          "metadata": {}
        }
      ]
    },
    {
      "cell_type": "markdown",
      "source": [
        "Columns having more than 60% null values"
      ],
      "metadata": {
        "id": "oxNoC5r8fssv"
      }
    },
    {
      "cell_type": "code",
      "source": [
        "all_cols = null_percentages.values.tolist()\n",
        "useless_cols = [i[0] for i in all_cols if i[1] > 60]\n",
        "print(\"total columns = \",df.shape[1])\n",
        "print(\"useless columns = \",len(useless_cols))"
      ],
      "metadata": {
        "colab": {
          "base_uri": "https://localhost:8080/"
        },
        "id": "DZuhR5vgL9j9",
        "outputId": "39f5cddd-51a9-41c4-8f92-08ea09e427d7"
      },
      "execution_count": null,
      "outputs": [
        {
          "output_type": "stream",
          "name": "stdout",
          "text": [
            "total columns =  59\n",
            "useless columns =  29\n"
          ]
        }
      ]
    },
    {
      "cell_type": "markdown",
      "source": [
        "\n",
        "Remove the Columns having more than 60% null values"
      ],
      "metadata": {
        "id": "Wug5k90K9aDg"
      }
    },
    {
      "cell_type": "markdown",
      "source": [
        "NULL Elmination or NULL Replacement"
      ],
      "metadata": {
        "id": "4LkZKrFh0mp5"
      }
    },
    {
      "cell_type": "markdown",
      "source": [
        "dropping the useless columns\n"
      ],
      "metadata": {
        "id": "LZgze15sRnPD"
      }
    },
    {
      "cell_type": "code",
      "source": [
        "for cols in useless_cols:\n",
        "  df.drop(cols, inplace = True, axis=1)\n",
        "print(\"Number of columns now \",len(df.columns))"
      ],
      "metadata": {
        "id": "v9SYd_ddWZBu"
      },
      "execution_count": null,
      "outputs": []
    },
    {
      "cell_type": "markdown",
      "source": [
        "Filling the Null Values"
      ],
      "metadata": {
        "id": "J7nXVOvrReFT"
      }
    },
    {
      "cell_type": "code",
      "source": [
        "df.columns\n",
        "df.fillna(df.mean(), inplace=True)\n",
        "df = df.apply(pd.to_numeric, errors='coerce')\n",
        "print(\"Number of elemnts in the data frame are\", len(df))\n"
      ],
      "metadata": {
        "colab": {
          "base_uri": "https://localhost:8080/"
        },
        "id": "iGDue4cnNE37",
        "outputId": "c51bfa0e-626d-4685-8757-25798639bad5"
      },
      "execution_count": null,
      "outputs": [
        {
          "output_type": "stream",
          "name": "stdout",
          "text": [
            "Number of columns 30\n",
            "Number of elemnts in the data frame are 165210\n"
          ]
        },
        {
          "output_type": "stream",
          "name": "stderr",
          "text": [
            "<ipython-input-15-67208c26e3f8>:3: FutureWarning: Dropping of nuisance columns in DataFrame reductions (with 'numeric_only=None') is deprecated; in a future version this will raise TypeError.  Select only valid columns before calling the reduction.\n",
            "  df.fillna(df.mean(), inplace=True)\n"
          ]
        }
      ]
    },
    {
      "cell_type": "markdown",
      "source": [
        "Encoding the Labels for having numerica values"
      ],
      "metadata": {
        "id": "yPH7ZxVTRrti"
      }
    },
    {
      "cell_type": "code",
      "source": [
        "le = preprocessing.LabelEncoder()\n",
        "df['propertycountylandusecode'] = le.fit_transform(df['propertycountylandusecode'])\n",
        "df['propertyzoningdesc'] = le.fit_transform(df['propertyzoningdesc'])"
      ],
      "metadata": {
        "id": "0kUBoK080k-j"
      },
      "execution_count": null,
      "outputs": []
    },
    {
      "cell_type": "code",
      "source": [
        "# Convert the DataFrame to float128\n",
        "df = df.astype('float128')\n",
        "string_cols = df.select_dtypes(include=['object']).columns\n",
        "le = preprocessing.LabelEncoder()\n",
        "for col in string_cols:\n",
        "    df[col] = le.fit_transform(df[col])\n"
      ],
      "metadata": {
        "id": "bXul6tTHNciY"
      },
      "execution_count": null,
      "outputs": []
    },
    {
      "cell_type": "markdown",
      "source": [
        "# Split the data into a training set (49%) and a test set (51%)"
      ],
      "metadata": {
        "id": "S0Ry8qs99fiP"
      }
    },
    {
      "cell_type": "code",
      "source": [
        "# Split the data into training and test sets\n",
        "X_train, X_test, y_train, y_test = train_test_split(df.drop(\"logerror\", axis=1), df[\"logerror\"], test_size=0.51, random_state=0)\n",
        "\n",
        "# Divide the data into training and test sets\n",
        "X = df.drop('logerror', axis=1)\n",
        "y = df['logerror']\n",
        "X_train, X_test, y_train, y_test = train_test_split(X, y, test_size=0.51, random_state=0)\n"
      ],
      "metadata": {
        "id": "fxmgIvgvAs5_"
      },
      "execution_count": null,
      "outputs": []
    },
    {
      "cell_type": "markdown",
      "source": [
        "\n",
        "# Choose and fit a model\n",
        "1. linear regression model"
      ],
      "metadata": {
        "id": "UiKu_6n-9sIX"
      }
    },
    {
      "cell_type": "code",
      "source": [
        "# Create a linear regression model\n",
        "lr = LinearRegression()"
      ],
      "metadata": {
        "id": "j9GMOplQ5mQs"
      },
      "execution_count": null,
      "outputs": []
    },
    {
      "cell_type": "code",
      "source": [
        "# Fit the model to the training data\n",
        "lr.fit(X_train, y_train)"
      ],
      "metadata": {
        "colab": {
          "base_uri": "https://localhost:8080/"
        },
        "id": "ZFcx9SYE5mH7",
        "outputId": "a172644f-d2ce-4202-9a26-8fa93bf77213"
      },
      "execution_count": null,
      "outputs": [
        {
          "output_type": "execute_result",
          "data": {
            "text/plain": [
              "LinearRegression()"
            ]
          },
          "metadata": {},
          "execution_count": 20
        }
      ]
    },
    {
      "cell_type": "code",
      "source": [
        "# Make predictions on train and test data\n",
        "y_train_pred = lr.predict(X_train)\n",
        "y_test_pred = lr.predict(X_test)\n",
        "\n",
        "# Calculate mean absolute error for train and test data\n",
        "train_mae = mean_absolute_error(y_train, y_train_pred)\n",
        "test_mae = mean_absolute_error(y_test, y_test_pred)\n",
        "\n",
        "# Print the results\n",
        "print(\"Train MAE:\", train_mae)\n",
        "print(\"Test MAE:\", test_mae)"
      ],
      "metadata": {
        "colab": {
          "base_uri": "https://localhost:8080/"
        },
        "id": "ziKDIuQbC2yT",
        "outputId": "006adfa0-9cce-46a8-9cd8-8c03eaf379e2"
      },
      "execution_count": null,
      "outputs": [
        {
          "output_type": "stream",
          "name": "stdout",
          "text": [
            "Train MAE: 0.06887212315256794424\n",
            "Test MAE: 0.069269265384183227865\n"
          ]
        }
      ]
    },
    {
      "cell_type": "markdown",
      "source": [
        "2. Lasso regression model"
      ],
      "metadata": {
        "id": "uJ0ZO0gigT--"
      }
    },
    {
      "cell_type": "code",
      "source": [
        "regressor = Lasso(alpha=1.0)"
      ],
      "metadata": {
        "id": "tznapNwcgdRl"
      },
      "execution_count": null,
      "outputs": []
    },
    {
      "cell_type": "code",
      "source": [
        "# Fit the model to the training data\n",
        "regressor.fit(X_train, y_train)"
      ],
      "metadata": {
        "id": "sLympzC7grxm",
        "colab": {
          "base_uri": "https://localhost:8080/"
        },
        "outputId": "7bed514a-3cc8-4e81-820e-02396da2e270"
      },
      "execution_count": null,
      "outputs": [
        {
          "output_type": "stream",
          "name": "stderr",
          "text": [
            "/usr/local/lib/python3.8/dist-packages/sklearn/linear_model/_coordinate_descent.py:647: ConvergenceWarning: Objective did not converge. You might want to increase the number of iterations, check the scale of the features or consider increasing regularisation. Duality gap: 9.200e+02, tolerance: 2.155e-01\n",
            "  model = cd_fast.enet_coordinate_descent(\n"
          ]
        },
        {
          "output_type": "execute_result",
          "data": {
            "text/plain": [
              "Lasso()"
            ]
          },
          "metadata": {},
          "execution_count": 32
        }
      ]
    },
    {
      "cell_type": "code",
      "source": [
        "# Make predictions on train and test data\n",
        "y_train_pred = regressor.predict(X_train)\n",
        "y_test_pred = regressor.predict(X_test)\n",
        "\n",
        "# Calculate mean absolute error for train and test data\n",
        "train_mae = mean_absolute_error(y_train, y_train_pred)\n",
        "test_mae = mean_absolute_error(y_test, y_test_pred)\n",
        "\n",
        "# Print the results\n",
        "print(\"Train MAE:\", train_mae)\n",
        "print(\"Test MAE:\", test_mae)"
      ],
      "metadata": {
        "colab": {
          "base_uri": "https://localhost:8080/"
        },
        "outputId": "a6e2e5f7-acfd-466b-e9f6-6c38d25c3c77",
        "id": "-yf1N2Prgx0e"
      },
      "execution_count": null,
      "outputs": [
        {
          "output_type": "stream",
          "name": "stdout",
          "text": [
            "Train MAE: 0.06878425884236014599\n",
            "Test MAE: 0.06915211122029712193\n"
          ]
        }
      ]
    },
    {
      "cell_type": "markdown",
      "source": [
        "3. Random Forest"
      ],
      "metadata": {
        "id": "6MLptn0hIO-i"
      }
    },
    {
      "cell_type": "code",
      "source": [
        "from sklearn.ensemble import RandomForestRegressor\n",
        "from sklearn.metrics import mean_absolute_error"
      ],
      "metadata": {
        "id": "ojlobhwWIRMZ"
      },
      "execution_count": null,
      "outputs": []
    },
    {
      "cell_type": "code",
      "source": [
        "# Create a Random Forest Regression model\n",
        "rf_model = RandomForestRegressor(n_estimators=100, random_state=0)\n",
        "\n",
        "# Fit the model on the training data\n",
        "rf_model.fit(X_train, y_train)\n",
        "\n",
        "# Make predictions on the test data\n",
        "y_pred = rf_model.predict(X_test)\n",
        "\n",
        "# Calculate the Mean Absolute Error\n",
        "mae = mean_absolute_error(y_test, y_pred)\n",
        "\n",
        "print(\"Random Forest Regression MAE:\", mae)"
      ],
      "metadata": {
        "colab": {
          "base_uri": "https://localhost:8080/"
        },
        "id": "7ztJ_6lIIScH",
        "outputId": "bcae9e2d-3a32-40b4-f00c-b95d02afa811"
      },
      "execution_count": null,
      "outputs": [
        {
          "output_type": "stream",
          "name": "stdout",
          "text": [
            "Random Forest Regression MAE: 0.07505782316218388958\n"
          ]
        }
      ]
    }
  ]
}